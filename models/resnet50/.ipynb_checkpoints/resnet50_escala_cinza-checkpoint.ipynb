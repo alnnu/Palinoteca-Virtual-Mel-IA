{
 "cells": [
  {
   "cell_type": "code",
   "execution_count": 1,
   "id": "1632823d24f0efc",
   "metadata": {
    "ExecuteTime": {
     "end_time": "2025-01-03T15:12:12.521574Z",
     "start_time": "2025-01-03T15:12:07.504546Z"
    },
    "tags": []
   },
   "outputs": [
    {
     "name": "stderr",
     "output_type": "stream",
     "text": [
      "2025-01-31 13:44:07.578088: I tensorflow/core/platform/cpu_feature_guard.cc:193] This TensorFlow binary is optimized with oneAPI Deep Neural Network Library (oneDNN) to use the following CPU instructions in performance-critical operations:  AVX2 FMA\n",
      "To enable them in other operations, rebuild TensorFlow with the appropriate compiler flags.\n",
      "2025-01-31 13:44:07.874795: E tensorflow/stream_executor/cuda/cuda_blas.cc:2981] Unable to register cuBLAS factory: Attempting to register factory for plugin cuBLAS when one has already been registered\n",
      "2025-01-31 13:44:08.637442: W tensorflow/stream_executor/platform/default/dso_loader.cc:64] Could not load dynamic library 'libnvinfer.so.7'; dlerror: libnvinfer.so.7: cannot open shared object file: No such file or directory; LD_LIBRARY_PATH: /usr/local/nvidia/lib:/usr/local/nvidia/lib64\n",
      "2025-01-31 13:44:08.637541: W tensorflow/stream_executor/platform/default/dso_loader.cc:64] Could not load dynamic library 'libnvinfer_plugin.so.7'; dlerror: libnvinfer_plugin.so.7: cannot open shared object file: No such file or directory; LD_LIBRARY_PATH: /usr/local/nvidia/lib:/usr/local/nvidia/lib64\n",
      "2025-01-31 13:44:08.637550: W tensorflow/compiler/tf2tensorrt/utils/py_utils.cc:38] TF-TRT Warning: Cannot dlopen some TensorRT libraries. If you would like to use Nvidia GPU with TensorRT, please make sure the missing libraries mentioned above are installed properly.\n"
     ]
    }
   ],
   "source": [
    "import os\n",
    "from keras import Model\n",
    "from keras.optimizers import Adam\n",
    "from keras.applications.vgg16 import VGG16, preprocess_input\n",
    "from keras.applications import ResNet50\n",
    "from tensorflow.keras.preprocessing.image import ImageDataGenerator\n",
    "from keras.callbacks import ModelCheckpoint, EarlyStopping\n",
    "from keras.layers import Dense, Dropout, Flatten\n",
    "from livelossplot.inputs.keras import PlotLossesCallback\n",
    "from pathlib import Path\n",
    "import numpy as n"
   ]
  },
  {
   "cell_type": "markdown",
   "id": "e38304055b15ab3d",
   "metadata": {},
   "source": [
    "## Analise dos dados"
   ]
  },
  {
   "cell_type": "code",
   "execution_count": 2,
   "id": "a620cbbde9fa1c4a",
   "metadata": {
    "ExecuteTime": {
     "end_time": "2025-01-03T15:14:30.116863Z",
     "start_time": "2025-01-03T15:14:30.106303Z"
    },
    "tags": []
   },
   "outputs": [
    {
     "name": "stdout",
     "output_type": "stream",
     "text": [
      "Para Treino\n",
      "P-70: 110\n",
      "P17: 171\n",
      "P-21: 137\n",
      "P-13: 52\n",
      "P-1: 230\n",
      "P-19: 192\n",
      "P-62: 216\n",
      "P-08: 57\n",
      "P-3: 78\n",
      "P-09: 108\n",
      "P-22: 283\n",
      "P-04: 42\n",
      "P-16: 156\n",
      "P-69_: 62\n",
      "P-01: 109\n",
      "P-11: 263\n",
      "2266\n",
      "Para Teste\n",
      "P-70: 36\n",
      "P17: 54\n",
      "P-21: 46\n",
      "P-13: 17\n",
      "P-1: 77\n",
      "P-19: 64\n",
      "P-62: 72\n",
      "P-08: 19\n",
      "P-3: 26\n",
      "P-09: 36\n",
      "P-22: 94\n",
      "P-04: 14\n",
      "P-16: 51\n",
      "P-69_: 20\n",
      "P-01: 36\n",
      "P-11: 87\n",
      "749\n"
     ]
    }
   ],
   "source": [
    "path = \"../../data/treino\"\n",
    "pathTest = \"../../data/teste\"\n",
    "\n",
    "\n",
    "def listdir(dir):\n",
    "    filenames = os.listdir(dir)\n",
    "    \n",
    "    total = 0\n",
    "    for files in filenames:\n",
    "        count = 0\n",
    "        file_path = os.path.join(dir, files)\n",
    "        for file in os.listdir(file_path):\n",
    "            count += 1\n",
    "        print(files + \": \" + str(count))\n",
    "        total += count\n",
    "\n",
    "    print(total)\n",
    "    \n",
    "print(\"Para Treino\")\n",
    "listdir(path)\n",
    "print(\"Para Teste\")\n",
    "listdir(pathTest)"
   ]
  },
  {
   "cell_type": "code",
   "execution_count": 3,
   "id": "7fdf1af1c48223f2",
   "metadata": {
    "ExecuteTime": {
     "end_time": "2024-12-28T23:12:19.556438Z",
     "start_time": "2024-12-28T23:12:19.552995Z"
    },
    "tags": []
   },
   "outputs": [],
   "source": [
    "\n",
    "BATCH_SIZE = 64\n",
    "\n",
    "train_generator = ImageDataGenerator(\n",
    "                                    validation_split=0.15,\n",
    "                                    preprocessing_function=preprocess_input) # VGG16 preprocessing\n",
    "\n",
    "test_generator = ImageDataGenerator(preprocessing_function=preprocess_input) # VGG16 preprocessing"
   ]
  },
  {
   "cell_type": "code",
   "execution_count": 6,
   "id": "c120141f6431c0a3",
   "metadata": {
    "ExecuteTime": {
     "end_time": "2024-12-28T23:12:19.696442Z",
     "start_time": "2024-12-28T23:12:19.606408Z"
    },
    "tags": []
   },
   "outputs": [
    {
     "name": "stdout",
     "output_type": "stream",
     "text": [
      "Found 1933 images belonging to 16 classes.\n",
      "Found 332 images belonging to 16 classes.\n",
      "Found 749 images belonging to 16 classes.\n"
     ]
    }
   ],
   "source": [
    "class_subset = sorted(os.listdir('../../data/imagens'))\n",
    "training = train_generator.flow_from_directory(directory='../../data/treino',\n",
    "                                               target_size=(224, 224),\n",
    "                                               class_mode='categorical',\n",
    "                                               classes=class_subset,\n",
    "                                               color_mode='grayscale',\n",
    "                                               subset='training',\n",
    "                                               batch_size=BATCH_SIZE,\n",
    "                                               shuffle=True,\n",
    "                                               seed=42)\n",
    "\n",
    "validation = train_generator.flow_from_directory('../../data/treino',\n",
    "                                               target_size=(224, 224),\n",
    "                                               class_mode='categorical',\n",
    "                                               classes=class_subset,\n",
    "                                               color_mode='grayscale',\n",
    "                                               subset='validation',\n",
    "                                               batch_size=BATCH_SIZE,\n",
    "                                               shuffle=True,\n",
    "                                               seed=42)\n",
    "\n",
    "testing = test_generator.flow_from_directory('../../data/teste',\n",
    "                                             target_size=(224, 224),\n",
    "                                             class_mode=None,\n",
    "                                             color_mode='grayscale',\n",
    "                                             classes=class_subset,\n",
    "                                             batch_size=1,\n",
    "                                             shuffle=False,\n",
    "                                             seed=42)"
   ]
  },
  {
   "cell_type": "code",
   "execution_count": 7,
   "id": "9ba5e7e1ad4e0ac1",
   "metadata": {
    "ExecuteTime": {
     "end_time": "2024-12-28T23:12:19.717525Z",
     "start_time": "2024-12-28T23:12:19.708446Z"
    },
    "tags": []
   },
   "outputs": [
    {
     "data": {
      "text/plain": [
       "['P-01',\n",
       " 'P-04',\n",
       " 'P-08',\n",
       " 'P-09',\n",
       " 'P-1',\n",
       " 'P-11',\n",
       " 'P-13',\n",
       " 'P-16',\n",
       " 'P-19',\n",
       " 'P-21',\n",
       " 'P-22',\n",
       " 'P-3',\n",
       " 'P-62',\n",
       " 'P-69_',\n",
       " 'P-70',\n",
       " 'P17']"
      ]
     },
     "execution_count": 7,
     "metadata": {},
     "output_type": "execute_result"
    }
   ],
   "source": [
    "class_subset"
   ]
  },
  {
   "cell_type": "code",
   "execution_count": 8,
   "id": "8ec214604bbb9843",
   "metadata": {
    "ExecuteTime": {
     "end_time": "2024-12-28T23:12:19.807329Z",
     "start_time": "2024-12-28T23:12:19.800890Z"
    },
    "tags": []
   },
   "outputs": [],
   "source": [
    "def create_model(input_shape, n_classes, optimizer='rmsprop', fine_tune=0):\n",
    "    \"\"\"\n",
    "    Compiles a model integrated with VGG16 pretrained layers\n",
    "\n",
    "    input_shape: tuple - the shape of input images (width, height, channels)\n",
    "    n_classes: int - number of classes for the output layer\n",
    "    optimizer: string - instantiated optimizer to use for training. Defaults to 'RMSProp'\n",
    "    fine_tune: int - The number of pre-trained layers to unfreeze.\n",
    "                If set to 0, all pretrained layers will freeze during training\n",
    "    \"\"\"\n",
    "\n",
    "    # Pretrained convolutional layers are loaded using the Imagenet weights.\n",
    "    # Include_top is set to False, in order to exclude the model's fully-connected layers.\n",
    "    conv_base = ResNet50(\n",
    "    include_top=False,\n",
    "    weights=\"imagenet\",\n",
    "    input_tensor=None,\n",
    "    input_shape=input_shape,\n",
    "    pooling=None,\n",
    "    classes=n_classes,\n",
    "    classifier_activation=\"softmax\",\n",
    ")\n",
    "\n",
    "\n",
    "    # Defines how many layers to freeze during training.\n",
    "    # Layers in the convolutional base are switched from trainable to non-trainable\n",
    "    # depending on the size of the fine-tuning parameter.\n",
    "    if fine_tune > 0:\n",
    "        for layer in conv_base.layers[:-fine_tune]:\n",
    "            layer.trainable = False\n",
    "    else:\n",
    "        for layer in conv_base.layers:\n",
    "            layer.trainable = False\n",
    "\n",
    "    # Create a new 'top' of the model (i.e. fully-connected layers).\n",
    "    # This is 'bootstrapping' a new top_model onto the pretrained layers.\n",
    "    top_model = conv_base.output\n",
    "    top_model = Flatten(name=\"flatten\")(top_model)\n",
    "    top_model = Dense(4096, activation='relu')(top_model)\n",
    "    top_model = Dense(1072, activation='relu')(top_model)\n",
    "    top_model = Dropout(0.2)(top_model)\n",
    "    output_layer = Dense(n_classes, activation='softmax')(top_model)\n",
    "\n",
    "    # Group the convolutional base and new fully-connected layers into a Model object.\n",
    "    model = Model(inputs=conv_base.input, outputs=output_layer)\n",
    "\n",
    "    print(model.summary())\n",
    "\n",
    "    # Compiles the model for training.\n",
    "    model.compile(optimizer=optimizer,\n",
    "                  loss='categorical_crossentropy',\n",
    "                  metrics=['accuracy'])\n",
    "\n",
    "    return model"
   ]
  },
  {
   "cell_type": "code",
   "execution_count": 9,
   "id": "4641afefde23f17e",
   "metadata": {
    "ExecuteTime": {
     "end_time": "2024-12-28T23:12:27.287258Z",
     "start_time": "2024-12-28T23:12:27.277611Z"
    },
    "tags": []
   },
   "outputs": [],
   "source": [
    "input_shape = (224, 224, 3)\n",
    "optim_1 = Adam(learning_rate=0.001)\n",
    "n_classes= len(class_subset)\n",
    "\n",
    "n_steps = training.samples // BATCH_SIZE\n",
    "n_val_steps = validation.samples // BATCH_SIZE\n",
    "n_epochs = 50"
   ]
  },
  {
   "cell_type": "code",
   "execution_count": 10,
   "id": "d1136dfe2465dd5b",
   "metadata": {
    "ExecuteTime": {
     "end_time": "2025-01-03T18:26:50.982711Z",
     "start_time": "2025-01-03T18:26:45.919129Z"
    },
    "tags": []
   },
   "outputs": [],
   "source": [
    "\n",
    "\n",
    "plot_loss_1 = PlotLossesCallback()\n",
    "\n",
    "# ModelCheckpoint callback - save best weights\n",
    "tl_checkpoint_1 = ModelCheckpoint(filepath='../../weights/resnet/resnet_gray_v1.weights.best.keras',\n",
    "                                  save_best_only=True,\n",
    "                                  verbose=1)\n",
    "\n",
    "# EarlyStopping\n",
    "early_stop = EarlyStopping(monitor='val_loss',\n",
    "                           patience=10,\n",
    "                           restore_best_weights=True,\n",
    "                           mode='min')"
   ]
  },
  {
   "cell_type": "code",
   "execution_count": null,
   "id": "c571bedb756f8b82",
   "metadata": {
    "ExecuteTime": {
     "end_time": "2024-12-28T23:12:51.070627Z",
     "start_time": "2024-12-28T23:12:47.200153Z"
    },
    "tags": []
   },
   "outputs": [],
   "source": [
    "\n",
    "# Use a smaller learning rate\n",
    "optim_2 = Adam(learning_rate=0.0001)\n",
    "\n",
    "# Just Feature Extraction\n",
    "vgg_model_ft = create_model(input_shape, n_classes, optim_2, fine_tune=2)"
   ]
  },
  {
   "cell_type": "code",
   "execution_count": 13,
   "id": "2fe8d35829072375",
   "metadata": {
    "ExecuteTime": {
     "end_time": "2024-12-28T23:13:28.235650Z",
     "start_time": "2024-12-28T23:13:23.003683Z"
    },
    "tags": []
   },
   "outputs": [
    {
     "ename": "IndexError",
     "evalue": "index 1 is out of bounds for axis 2 with size 1",
     "output_type": "error",
     "traceback": [
      "\u001b[0;31m---------------------------------------------------------------------------\u001b[0m",
      "\u001b[0;31mIndexError\u001b[0m                                Traceback (most recent call last)",
      "File \u001b[0;32m<timed exec>:4\u001b[0m\n",
      "File \u001b[0;32m/opt/conda/lib/python3.10/site-packages/keras/utils/traceback_utils.py:70\u001b[0m, in \u001b[0;36mfilter_traceback.<locals>.error_handler\u001b[0;34m(*args, **kwargs)\u001b[0m\n\u001b[1;32m     67\u001b[0m     filtered_tb \u001b[38;5;241m=\u001b[39m _process_traceback_frames(e\u001b[38;5;241m.\u001b[39m__traceback__)\n\u001b[1;32m     68\u001b[0m     \u001b[38;5;66;03m# To get the full stack trace, call:\u001b[39;00m\n\u001b[1;32m     69\u001b[0m     \u001b[38;5;66;03m# `tf.debugging.disable_traceback_filtering()`\u001b[39;00m\n\u001b[0;32m---> 70\u001b[0m     \u001b[38;5;28;01mraise\u001b[39;00m e\u001b[38;5;241m.\u001b[39mwith_traceback(filtered_tb) \u001b[38;5;28;01mfrom\u001b[39;00m \u001b[38;5;28mNone\u001b[39m\n\u001b[1;32m     71\u001b[0m \u001b[38;5;28;01mfinally\u001b[39;00m:\n\u001b[1;32m     72\u001b[0m     \u001b[38;5;28;01mdel\u001b[39;00m filtered_tb\n",
      "File \u001b[0;32m/opt/conda/lib/python3.10/site-packages/keras/applications/imagenet_utils.py:241\u001b[0m, in \u001b[0;36m_preprocess_numpy_input\u001b[0;34m(x, data_format, mode)\u001b[0m\n\u001b[1;32m    239\u001b[0m \u001b[38;5;28;01melse\u001b[39;00m:\n\u001b[1;32m    240\u001b[0m     x[\u001b[38;5;241m.\u001b[39m\u001b[38;5;241m.\u001b[39m\u001b[38;5;241m.\u001b[39m, \u001b[38;5;241m0\u001b[39m] \u001b[38;5;241m-\u001b[39m\u001b[38;5;241m=\u001b[39m mean[\u001b[38;5;241m0\u001b[39m]\n\u001b[0;32m--> 241\u001b[0m     x[\u001b[38;5;241m.\u001b[39m\u001b[38;5;241m.\u001b[39m\u001b[38;5;241m.\u001b[39m, \u001b[38;5;241m1\u001b[39m] \u001b[38;5;241m-\u001b[39m\u001b[38;5;241m=\u001b[39m mean[\u001b[38;5;241m1\u001b[39m]\n\u001b[1;32m    242\u001b[0m     x[\u001b[38;5;241m.\u001b[39m\u001b[38;5;241m.\u001b[39m\u001b[38;5;241m.\u001b[39m, \u001b[38;5;241m2\u001b[39m] \u001b[38;5;241m-\u001b[39m\u001b[38;5;241m=\u001b[39m mean[\u001b[38;5;241m2\u001b[39m]\n\u001b[1;32m    243\u001b[0m     \u001b[38;5;28;01mif\u001b[39;00m std \u001b[38;5;129;01mis\u001b[39;00m \u001b[38;5;129;01mnot\u001b[39;00m \u001b[38;5;28;01mNone\u001b[39;00m:\n",
      "\u001b[0;31mIndexError\u001b[0m: index 1 is out of bounds for axis 2 with size 1"
     ]
    }
   ],
   "source": [
    "%%time\n",
    "\n",
    "plot_loss_2 = PlotLossesCallback()\n",
    "\n",
    "# Retrain model with fine-tuning\n",
    "vgg_ft_history = vgg_model_ft.fit(training,\n",
    "                                  batch_size=BATCH_SIZE,\n",
    "                                  epochs=n_epochs,\n",
    "                                  validation_data=validation,\n",
    "                                  steps_per_epoch=n_steps,\n",
    "                                  validation_steps=n_val_steps,\n",
    "                                  callbacks=[tl_checkpoint_1, early_stop, plot_loss_2],\n",
    "                                  verbose=1)"
   ]
  },
  {
   "cell_type": "code",
   "execution_count": 11,
   "id": "c859262b11787a5e",
   "metadata": {},
   "outputs": [
    {
     "name": "stdout",
     "output_type": "stream",
     "text": [
      "749/749 [==============================] - 6s 8ms/step\n",
      "VGG16 Model Accuracy with Fine-Tuning: 94.53%\n"
     ]
    }
   ],
   "source": [
    "\n",
    "# Loading predictions from last article's model\n",
    "from sklearn.metrics import accuracy_score\n",
    "\n",
    "true_classes = testing.classes\n",
    "# Generate predictions\n",
    "vgg_model_ft.load_weights('../../weights/resnet/resnet_gray_v1.weights.best.keras') # initialize the best trained weights\n",
    "\n",
    "vgg_preds_ft = vgg_model_ft.predict(testing)\n",
    "vgg_pred_classes_ft = n.argmax(vgg_preds_ft, axis=1)\n",
    "vgg_acc_ft = accuracy_score(true_classes, vgg_pred_classes_ft)\n",
    "print(\"resnet Model Accuracy with Fine-Tuning: {:.2f}%\".format(vgg_acc_ft * 100))\n"
   ]
  },
  {
   "cell_type": "code",
   "execution_count": 12,
   "id": "6584e8a1-f7c4-46cc-81c2-17981ea7a12d",
   "metadata": {},
   "outputs": [
    {
     "data": {
      "image/png": "[encoded data removed]",
      "text/plain": [
       "<Figure size 2000x1000 with 1 Axes>"
      ]
     },
     "metadata": {},
     "output_type": "display_data"
    }
   ],
   "source": [
    "import seaborn as sns\n",
    "from sklearn.metrics import confusion_matrix\n",
    "import matplotlib.pyplot as plt\n",
    "\n",
    "\n",
    "\n",
    "# Get the names of the ten classes\n",
    "class_names = testing.class_indices.keys()\n",
    "\n",
    "def plot_heatmap(y_true, y_pred, class_names, ax, title):\n",
    "    cm = confusion_matrix(y_true, y_pred)\n",
    "    sns.heatmap(\n",
    "        cm,\n",
    "        annot=True,\n",
    "        square=True,\n",
    "        xticklabels=class_names,\n",
    "        yticklabels=class_names,\n",
    "        fmt='d',\n",
    "        cmap=plt.cm.Blues,\n",
    "        cbar=False,\n",
    "        ax=ax\n",
    "    )\n",
    "    ax.set_title(title, fontsize=16)\n",
    "    ax.set_xticklabels(ax.get_xticklabels(), rotation=45, ha=\"right\")\n",
    "    ax.set_ylabel('True Label', fontsize=12)\n",
    "    ax.set_xlabel('Predicted Label', fontsize=12)\n",
    "\n",
    "fig, ax = plt.subplots(figsize=(20, 10))\n",
    "\n",
    "plot_heatmap(true_classes, vgg_pred_classes_ft, class_names, ax, title=\"Transfer Learning (VGG16) with Fine-Tuning\")\n",
    "\n",
    "\n",
    "fig.tight_layout()\n",
    "fig.subplots_adjust(top=1.25)\n",
    "plt.show()\n"
   ]
  },
  {
   "cell_type": "code",
   "execution_count": null,
   "id": "96ac8a1a-93da-478e-8a3a-2f9fcc68bb0a",
   "metadata": {},
   "outputs": [],
   "source": []
  }
 ],
 "metadata": {
  "kernelspec": {
   "display_name": "Python 3 (ipykernel)",
   "language": "python",
   "name": "python3"
  },
  "language_info": {
   "codemirror_mode": {
    "name": "ipython",
    "version": 3
   },
   "file_extension": ".py",
   "mimetype": "text/x-python",
   "name": "python",
   "nbconvert_exporter": "python",
   "pygments_lexer": "ipython3",
   "version": "3.10.10"
  },
  "widgets": {
   "application/vnd.jupyter.widget-state+json": {
    "state": {},
    "version_major": 2,
    "version_minor": 0
   }
  }
 },
 "nbformat": 4,
 "nbformat_minor": 5
}
