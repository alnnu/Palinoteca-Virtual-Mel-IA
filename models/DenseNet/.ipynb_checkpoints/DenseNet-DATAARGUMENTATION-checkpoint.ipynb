{
 "cells": [
  {
   "cell_type": "code",
   "execution_count": null,
   "id": "1632823d24f0efc",
   "metadata": {
    "ExecuteTime": {
     "end_time": "2025-01-03T15:12:12.521574Z",
     "start_time": "2025-01-03T15:12:07.504546Z"
    },
    "editable": true,
    "slideshow": {
     "slide_type": ""
    },
    "tags": []
   },
   "outputs": [
    {
     "name": "stderr",
     "output_type": "stream",
     "text": [
      "2025-01-16 14:26:48.570415: I tensorflow/core/platform/cpu_feature_guard.cc:193] This TensorFlow binary is optimized with oneAPI Deep Neural Network Library (oneDNN) to use the following CPU instructions in performance-critical operations:  AVX2 FMA\n",
      "To enable them in other operations, rebuild TensorFlow with the appropriate compiler flags.\n",
      "2025-01-16 14:26:48.667999: E tensorflow/stream_executor/cuda/cuda_blas.cc:2981] Unable to register cuBLAS factory: Attempting to register factory for plugin cuBLAS when one has already been registered\n"
     ]
    }
   ],
   "source": [
    "import os\n",
    "from keras import Model\n",
    "from keras.optimizers import Adam\n",
    "from keras.applications.densenet import DenseNet201, preprocess_input\n",
    "from keras_preprocessing.image import ImageDataGenerator\n",
    "from keras.callbacks import ModelCheckpoint, EarlyStopping\n",
    "from keras.layers import Dense, Dropout, Flatten\n",
    "from livelossplot.inputs.keras import PlotLossesCallback\n",
    "from pathlib import Path\n",
    "import numpy as n"
   ]
  },
  {
   "cell_type": "markdown",
   "id": "e38304055b15ab3d",
   "metadata": {},
   "source": [
    "## Analise dos dados"
   ]
  },
  {
   "cell_type": "code",
   "execution_count": null,
   "id": "a620cbbde9fa1c4a",
   "metadata": {
    "ExecuteTime": {
     "end_time": "2025-01-03T15:14:30.116863Z",
     "start_time": "2025-01-03T15:14:30.106303Z"
    },
    "editable": true,
    "slideshow": {
     "slide_type": ""
    },
    "tags": []
   },
   "outputs": [],
   "source": [
    "path = \"../../data/treino\"\n",
    "pathTest = \"../../data/teste\"\n",
    "\n",
    "\n",
    "def listdir(dir):\n",
    "    filenames = os.listdir(dir)\n",
    "    \n",
    "    total = 0\n",
    "    for files in filenames:\n",
    "        count = 0\n",
    "        file_path = os.path.join(dir, files)\n",
    "        for file in os.listdir(file_path):\n",
    "            count += 1\n",
    "        print(files + \": \" + str(count))\n",
    "        total += count\n",
    "\n",
    "    print(total)\n",
    "    \n",
    "print(\"Para Treino\")\n",
    "listdir(path)\n",
    "print(\"Para Teste\")\n",
    "listdir(pathTest)"
   ]
  },
  {
   "cell_type": "code",
   "execution_count": null,
   "id": "7fdf1af1c48223f2",
   "metadata": {
    "ExecuteTime": {
     "end_time": "2024-12-28T23:12:19.556438Z",
     "start_time": "2024-12-28T23:12:19.552995Z"
    }
   },
   "outputs": [],
   "source": [
    "\n",
    "BATCH_SIZE = 64\n",
    "\n",
    "train_generator = ImageDataGenerator(\n",
    "                                    rotation_range=90,\n",
    "                                     brightness_range=[0.1, 0.7],\n",
    "                                     width_shift_range=0.5,\n",
    "                                     height_shift_range=0.5,\n",
    "                                     horizontal_flip=True,\n",
    "                                     vertical_flip=True,\n",
    "                                     validation_split=0.15,\n",
    "                                    preprocessing_function=preprocess_input) # VGG16 preprocessing\n",
    "\n",
    "test_generator = ImageDataGenerator(preprocessing_function=preprocess_input) # VGG16 preprocessing"
   ]
  },
  {
   "cell_type": "code",
   "execution_count": null,
   "id": "c120141f6431c0a3",
   "metadata": {
    "ExecuteTime": {
     "end_time": "2024-12-28T23:12:19.696442Z",
     "start_time": "2024-12-28T23:12:19.606408Z"
    }
   },
   "outputs": [],
   "source": [
    "class_subset = sorted(os.listdir('../../data/imagens'))\n",
    "training =  train_generator.flow_from_directory(directory='../../data/treino',\n",
    "                                               target_size=(224, 224),\n",
    "                                               class_mode='categorical',\n",
    "                                               classes=class_subset,\n",
    "                                               subset='training',\n",
    "                                               batch_size=BATCH_SIZE,\n",
    "                                               shuffle=True,\n",
    "                                               seed=42)\n",
    "\n",
    "validation = train_generator.flow_from_directory('../../data/treino',\n",
    "                                               target_size=(224, 224),\n",
    "                                               class_mode='categorical',\n",
    "                                               classes=class_subset,\n",
    "                                               subset='validation',\n",
    "                                               batch_size=BATCH_SIZE,\n",
    "                                               shuffle=True,\n",
    "                                               seed=42)\n",
    "\n",
    "testing = test_generator.flow_from_directory('../../data/teste',\n",
    "                                             target_size=(224, 224),\n",
    "                                             class_mode=None,\n",
    "                                             classes=class_subset,\n",
    "                                             batch_size=1,\n",
    "                                             shuffle=False,\n",
    "                                             seed=42)"
   ]
  },
  {
   "cell_type": "code",
   "execution_count": null,
   "id": "9ba5e7e1ad4e0ac1",
   "metadata": {
    "ExecuteTime": {
     "end_time": "2024-12-28T23:12:19.717525Z",
     "start_time": "2024-12-28T23:12:19.708446Z"
    }
   },
   "outputs": [],
   "source": [
    "class_subset"
   ]
  },
  {
   "cell_type": "code",
   "execution_count": null,
   "id": "8ec214604bbb9843",
   "metadata": {
    "ExecuteTime": {
     "end_time": "2024-12-28T23:12:19.807329Z",
     "start_time": "2024-12-28T23:12:19.800890Z"
    },
    "editable": true,
    "slideshow": {
     "slide_type": ""
    },
    "tags": []
   },
   "outputs": [],
   "source": [
    "def create_model(input_shape, n_classes, optimizer='rmsprop', fine_tune=0):\n",
    "    \"\"\"\n",
    "    Compiles a model integrated with VGG16 pretrained layers\n",
    "\n",
    "    input_shape: tuple - the shape of input images (width, height, channels)\n",
    "    n_classes: int - number of classes for the output layer\n",
    "    optimizer: string - instantiated optimizer to use for training. Defaults to 'RMSProp'\n",
    "    fine_tune: int - The number of pre-trained layers to unfreeze.\n",
    "                If set to 0, all pretrained layers will freeze during training\n",
    "    \"\"\"\n",
    "\n",
    "    # Pretrained convolutional layers are loaded using the Imagenet weights.\n",
    "    # Include_top is set to False, in order to exclude the model's fully-connected layers.\n",
    "    conv_base = DenseNet201(\n",
    "        include_top=False,\n",
    "        weights=\"imagenet\",\n",
    "        input_shape=input_shape,\n",
    "        classifier_activation=\"softmax\",\n",
    "    )\n",
    "\n",
    "\n",
    "    # Defines how many layers to freeze during training.\n",
    "    # Layers in the convolutional base are switched from trainable to non-trainable\n",
    "    # depending on the size of the fine-tuning parameter.\n",
    "    if fine_tune > 0:\n",
    "        for layer in conv_base.layers[:-fine_tune]:\n",
    "            layer.trainable = False\n",
    "    else:\n",
    "        for layer in conv_base.layers:\n",
    "            layer.trainable = False\n",
    "\n",
    "    # Create a new 'top' of the model (i.e. fully-connected layers).\n",
    "    # This is 'bootstrapping' a new top_model onto the pretrained layers.\n",
    "    top_model = conv_base.output\n",
    "    top_model = Flatten(name=\"flatten\")(top_model)\n",
    "    top_model = Dense(4096, activation='relu')(top_model)\n",
    "    top_model = Dense(1072, activation='relu')(top_model)\n",
    "    top_model = Dropout(0.2)(top_model)\n",
    "    output_layer = Dense(n_classes, activation='softmax')(top_model)\n",
    "\n",
    "    # Group the convolutional base and new fully-connected layers into a Model object.\n",
    "    model = Model(inputs=conv_base.input, outputs=output_layer)\n",
    "\n",
    "    print(model.summary())\n",
    "\n",
    "    # Compiles the model for training.\n",
    "    model.compile(optimizer=optimizer,\n",
    "                  loss='categorical_crossentropy',\n",
    "                  metrics=['accuracy'])\n",
    "\n",
    "    return model"
   ]
  },
  {
   "cell_type": "code",
   "execution_count": null,
   "id": "4641afefde23f17e",
   "metadata": {
    "ExecuteTime": {
     "end_time": "2024-12-28T23:12:27.287258Z",
     "start_time": "2024-12-28T23:12:27.277611Z"
    }
   },
   "outputs": [],
   "source": [
    "input_shape = (224, 224, 3)\n",
    "optim_1 = Adam(learning_rate=0.001)\n",
    "n_classes= len(class_subset)\n",
    "\n",
    "n_steps = training.samples // BATCH_SIZE\n",
    "n_val_steps = validation.samples // BATCH_SIZE\n",
    "n_epochs = 50"
   ]
  },
  {
   "cell_type": "code",
   "execution_count": null,
   "id": "d1136dfe2465dd5b",
   "metadata": {
    "ExecuteTime": {
     "end_time": "2025-01-03T18:26:50.982711Z",
     "start_time": "2025-01-03T18:26:45.919129Z"
    }
   },
   "outputs": [],
   "source": [
    "\n",
    "\n",
    "plot_loss_1 = PlotLossesCallback()\n",
    "\n",
    "# ModelCheckpoint callback - save best weights\n",
    "tl_checkpoint_1 = ModelCheckpoint(filepath='../../weights/DenseNet201_v1.weights.best.keras',\n",
    "                                  save_best_only=True,\n",
    "                                  verbose=1)\n",
    "\n",
    "# EarlyStopping\n",
    "early_stop = EarlyStopping(monitor='val_loss',\n",
    "                           patience=10,\n",
    "                           restore_best_weights=True,\n",
    "                           mode='min')"
   ]
  },
  {
   "cell_type": "code",
   "execution_count": null,
   "id": "c571bedb756f8b82",
   "metadata": {
    "ExecuteTime": {
     "end_time": "2024-12-28T23:12:51.070627Z",
     "start_time": "2024-12-28T23:12:47.200153Z"
    }
   },
   "outputs": [],
   "source": [
    "\n",
    "# Use a smaller learning rate\n",
    "optim_2 = Adam(learning_rate=0.0001)\n",
    "\n",
    "# Just Feature Extraction\n",
    "vgg_model_ft = create_model(input_shape, n_classes, optim_2, fine_tune=2)"
   ]
  },
  {
   "cell_type": "code",
   "execution_count": null,
   "id": "2fe8d35829072375",
   "metadata": {
    "ExecuteTime": {
     "end_time": "2024-12-28T23:13:28.235650Z",
     "start_time": "2024-12-28T23:13:23.003683Z"
    }
   },
   "outputs": [],
   "source": [
    "%%time\n",
    "\n",
    "plot_loss_2 = PlotLossesCallback()\n",
    "\n",
    "\n",
    "# Retrain model with fine-tuning\n",
    "vgg_ft_history = vgg_model_ft.fit(training,\n",
    "                                  batch_size=BATCH_SIZE,\n",
    "                                  epochs=n_epochs,\n",
    "                                  validation_data=validation,\n",
    "                                  steps_per_epoch=n_steps,\n",
    "                                  validation_steps=n_val_steps,\n",
    "                                  callbacks=[tl_checkpoint_1, early_stop, plot_loss_2],\n",
    "                                  verbose=1)"
   ]
  },
  {
   "cell_type": "code",
   "execution_count": null,
   "id": "c859262b11787a5e",
   "metadata": {
    "editable": true,
    "slideshow": {
     "slide_type": ""
    },
    "tags": []
   },
   "outputs": [],
   "source": [
    "\n",
    "# Loading predictions from last article's model\n",
    "from sklearn.metrics import accuracy_score\n",
    "\n",
    "true_classes = testing.classes\n",
    "# Generate predictions\n",
    "vgg_model_ft.load_weights('../../weights/DenseNet201_v1.weights.best.keras') # initialize the best trained weights\n",
    "\n",
    "vgg_preds_ft = vgg_model_ft.predict(testing)\n",
    "vgg_pred_classes_ft = n.argmax(vgg_preds_ft, axis=1)\n",
    "vgg_acc_ft = accuracy_score(true_classes, vgg_pred_classes_ft)\n",
    "print(\"VGG16 Model Accuracy with Fine-Tuning: {:.2f}%\".format(vgg_acc_ft * 100))\n"
   ]
  },
  {
   "cell_type": "code",
   "execution_count": null,
   "id": "6584e8a1-f7c4-46cc-81c2-17981ea7a12d",
   "metadata": {
    "editable": true,
    "slideshow": {
     "slide_type": ""
    },
    "tags": []
   },
   "outputs": [],
   "source": [
    "import seaborn as sns\n",
    "from sklearn.metrics import confusion_matrix\n",
    "import matplotlib.pyplot as plt\n",
    "\n",
    "\n",
    "\n",
    "# Get the names of the ten classes\n",
    "class_names = testing.class_indices.keys()\n",
    "\n",
    "def plot_heatmap(y_true, y_pred, class_names, ax, title):\n",
    "    cm = confusion_matrix(y_true, y_pred)\n",
    "    sns.heatmap(\n",
    "        cm,\n",
    "        annot=True,\n",
    "        square=True,\n",
    "        xticklabels=class_names,\n",
    "        yticklabels=class_names,\n",
    "        fmt='d',\n",
    "        cmap=plt.cm.Blues,\n",
    "        cbar=False,\n",
    "        ax=ax\n",
    "    )\n",
    "    ax.set_title(title, fontsize=16)\n",
    "    ax.set_xticklabels(ax.get_xticklabels(), rotation=45, ha=\"right\")\n",
    "    ax.set_ylabel('True Label', fontsize=12)\n",
    "    ax.set_xlabel('Predicted Label', fontsize=12)\n",
    "\n",
    "fig, ax = plt.subplots(figsize=(20, 10))\n",
    "\n",
    "plot_heatmap(true_classes, vgg_pred_classes_ft, class_names, ax, title=\"Transfer Learning (VGG16) with Fine-Tuning\")\n",
    "\n",
    "\n",
    "fig.tight_layout()\n",
    "fig.subplots_adjust(top=1.25)\n",
    "plt.show()\n"
   ]
  }
 ],
 "metadata": {
  "kernelspec": {
   "display_name": "Python 3 (ipykernel)",
   "language": "python",
   "name": "python3"
  },
  "language_info": {
   "codemirror_mode": {
    "name": "ipython",
    "version": 3
   },
   "file_extension": ".py",
   "mimetype": "text/x-python",
   "name": "python",
   "nbconvert_exporter": "python",
   "pygments_lexer": "ipython3",
   "version": "3.10.10"
  },
  "widgets": {
   "application/vnd.jupyter.widget-state+json": {
    "state": {},
    "version_major": 2,
    "version_minor": 0
   }
  }
 },
 "nbformat": 4,
 "nbformat_minor": 5
}
